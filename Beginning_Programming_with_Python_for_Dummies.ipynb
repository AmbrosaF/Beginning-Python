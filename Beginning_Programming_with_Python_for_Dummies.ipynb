{
  "nbformat": 4,
  "nbformat_minor": 0,
  "metadata": {
    "colab": {
      "provenance": [],
      "authorship_tag": "ABX9TyMvP/YA+LYminXObZ1g7GGy"
    },
    "kernelspec": {
      "name": "python3",
      "display_name": "Python 3"
    },
    "language_info": {
      "name": "python"
    }
  },
  "cells": [
    {
      "cell_type": "code",
      "execution_count": 1,
      "metadata": {
        "id": "MOeIg4OFlsMW",
        "colab": {
          "base_uri": "https://localhost:8080/"
        },
        "outputId": "8fe8cedd-03f9-4a02-998d-16e34661fd2a"
      },
      "outputs": [
        {
          "output_type": "stream",
          "name": "stdout",
          "text": [
            "Hello World\n"
          ]
        }
      ],
      "source": [
        "print(\"Hello World\")"
      ]
    },
    {
      "cell_type": "markdown",
      "source": [
        "Alright, small issue. It seems that I have to manually save any additions created in order for it to appear on GitHub. Which was intresting thing to learn... Might of been in the fine print for the tutorial, but hey, you learn something new everyday."
      ],
      "metadata": {
        "id": "GRUo_88x6dB-"
      }
    }
  ]
}