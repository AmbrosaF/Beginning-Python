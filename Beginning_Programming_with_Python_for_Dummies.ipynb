{
  "cells": [
    {
      "cell_type": "code",
      "execution_count": 1,
      "metadata": {
        "colab": {
          "base_uri": "https://localhost:8080/"
        },
        "id": "MOeIg4OFlsMW",
        "outputId": "8fe8cedd-03f9-4a02-998d-16e34661fd2a"
      },
      "outputs": [
        {
          "name": "stdout",
          "output_type": "stream",
          "text": [
            "Hello World\n"
          ]
        }
      ],
      "source": [
        "print(\"Hello World\")"
      ]
    },
    {
      "cell_type": "markdown",
      "metadata": {
        "id": "GRUo_88x6dB-"
      },
      "source": [
        "Alright, small issue. It seems that I have to manually save any additions created in order for it to appear on GitHub. Which was intresting thing to learn... Might of been in the fine print for the tutorial, but hey, you learn something new everyday."
      ]
    }
  ],
  "metadata": {
    "colab": {
      "authorship_tag": "ABX9TyMvP/YA+LYminXObZ1g7GGy",
      "provenance": []
    },
    "kernelspec": {
      "display_name": "Python 3",
      "name": "python3"
    },
    "language_info": {
      "name": "python",
      "version": "3.11.9"
    }
  },
  "nbformat": 4,
  "nbformat_minor": 0
}
